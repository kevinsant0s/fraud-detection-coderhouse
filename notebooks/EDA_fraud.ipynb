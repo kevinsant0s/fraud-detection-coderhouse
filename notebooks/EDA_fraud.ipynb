{
 "cells": [
  {
   "cell_type": "markdown",
   "id": "d016bdf4-dcae-4226-92d3-cde8d3c88fff",
   "metadata": {},
   "source": [
    "# Financial Fraud Detection EDA\n",
    " ---\n",
    " Elegí este dataset ya que trabajo en una fintech en donde hay una potencial mejora en el área de Fraud Detection/Risk. <br>\n",
    " El objetivo principal es llegar a entrenar un modelo que pueda detectar y clasificar fraude o anomalías en las transacciones que pasan por la plataforma.\n"
   ]
  },
  {
   "cell_type": "code",
   "execution_count": 80,
   "id": "d1b37420-84f2-4fc7-97bb-2f0d7490748f",
   "metadata": {},
   "outputs": [],
   "source": [
    "import pandas as pd\n",
    "import numpy as np\n",
    "import matplotlib.pyplot as plt\n",
    "import seaborn as sns\n"
   ]
  },
  {
   "cell_type": "markdown",
   "id": "d6a018de-5910-405a-acae-eb969499968f",
   "metadata": {},
   "source": [
    "### Data Acquisition\n",
    "Levantamos los datos <br>\n",
    "Si bien localmente tengo los datos descargardo, no los subo a github por tema de espacio, pero dejo el link del dataset público.\n",
    "<br>\n",
    "[Fraud Dataset link](https://www.kaggle.com/datasets/goyaladi/fraud-detection-dataset)"
   ]
  },
  {
   "cell_type": "code",
   "execution_count": 3,
   "id": "3ad29e8c-3e57-4915-a3cc-3bf1b5308f48",
   "metadata": {},
   "outputs": [
    {
     "name": "stdout",
     "output_type": "stream",
     "text": [
      "'Customer Profiles'    'Merchant Information'  'Transaction Data'\n",
      "'Fraudulent Patterns'  'Transaction Amounts'\n"
     ]
    }
   ],
   "source": [
    "!ls ./work/data"
   ]
  },
  {
   "cell_type": "code",
   "execution_count": 4,
   "id": "1f80a7eb-988d-43d0-a99b-2842a734dd1c",
   "metadata": {},
   "outputs": [],
   "source": [
    "#customer data\n",
    "df_customer = pd.read_csv(\"./work/data/Customer Profiles/customer_data.csv\")\n",
    "df_account_activity = pd.read_csv(\"./work/data/Customer Profiles/account_activity.csv\")\n",
    "\n",
    "#fraudulent patterns\n",
    "df_fraud = pd.read_csv(\"./work/data/Fraudulent Patterns/fraud_indicators.csv\")\n",
    "df_susp_activity = pd.read_csv(\"./work/data/Fraudulent Patterns/suspicious_activity.csv\")\n",
    "\n",
    "#merchant data\n",
    "df_merchants = pd.read_csv(\"./work/data/Merchant Information/merchant_data.csv\")\n",
    "df_trx_cat_labels = pd.read_csv(\"./work/data/Merchant Information/transaction_category_labels.csv\")\n",
    "\n",
    "#transaction amounts\n",
    "df_amounts = pd.read_csv(\"./work/data/Transaction Amounts/amount_data.csv\")\n",
    "df_anomaly_scores = pd.read_csv(\"./work/data/Transaction Amounts/anomaly_scores.csv\")\n",
    "\n",
    "#transaction data\n",
    "df_trx_metadata = pd.read_csv(\"./work/data/Transaction Data/transaction_metadata.csv\")\n",
    "df_trx_records= pd.read_csv(\"./work/data/Transaction Data/transaction_records.csv\")"
   ]
  },
  {
   "cell_type": "markdown",
   "id": "3a9f883d",
   "metadata": {},
   "source": [
    "### Exploración de datos: Primera vista"
   ]
  },
  {
   "cell_type": "code",
   "execution_count": 5,
   "id": "b9053edb",
   "metadata": {},
   "outputs": [],
   "source": [
    "def first_look_eda(df, name):\n",
    "    print(f\"Dataframe name: {name}\")\n",
    "    print(\"First 5 rows of the dataset\")\n",
    "    print(df.head())\n",
    "    print(\"Data types of the columns\")\n",
    "    print(df.dtypes)\n",
    "    print(\"Number of rows and columns\")\n",
    "    print(df.shape)\n",
    "    print(\"Columns names\")\n",
    "    print(df.columns)\n",
    "    print(\"Number of missing values\")\n",
    "    print(df.isnull().sum())\n",
    "    print(\"Summary statistics\")\n",
    "    print(df.describe())\n",
    "    print(\"Unique values\")\n",
    "    print(df.nunique())\n",
    "    print(\"===============================================\")"
   ]
  },
  {
   "cell_type": "code",
   "execution_count": 6,
   "id": "b1a561bc",
   "metadata": {},
   "outputs": [],
   "source": [
    "# dict with dataframe name and dataframe object\n",
    "dataframes_dict = {\"Customer Data\": df_customer, \"Account Activity\": df_account_activity, \"Fraud Indicators\": df_fraud, \"Suspicious Activity\": df_susp_activity, \"Merchant Data\": df_merchants, \"Transaction Category Labels\": df_trx_cat_labels, \"Amount Data\": df_amounts, \"Anomaly Scores\": df_anomaly_scores, \"Transaction Metadata\": df_trx_metadata, \"Transaction Records\": df_trx_records} \n"
   ]
  },
  {
   "cell_type": "code",
   "execution_count": 7,
   "id": "fcb65d31",
   "metadata": {},
   "outputs": [
    {
     "name": "stdout",
     "output_type": "stream",
     "text": [
      "Dataframe name: Customer Data\n",
      "First 5 rows of the dataset\n",
      "   CustomerID           Name  Age       Address\n",
      "0        1001  Customer 1001   54  Address 1001\n",
      "1        1002  Customer 1002   35  Address 1002\n",
      "2        1003  Customer 1003   40  Address 1003\n",
      "3        1004  Customer 1004   30  Address 1004\n",
      "4        1005  Customer 1005   46  Address 1005\n",
      "Data types of the columns\n",
      "CustomerID     int64\n",
      "Name          object\n",
      "Age            int64\n",
      "Address       object\n",
      "dtype: object\n",
      "Number of rows and columns\n",
      "(1000, 4)\n",
      "Columns names\n",
      "Index(['CustomerID', 'Name', 'Age', 'Address'], dtype='object')\n",
      "Number of missing values\n",
      "CustomerID    0\n",
      "Name          0\n",
      "Age           0\n",
      "Address       0\n",
      "dtype: int64\n",
      "Summary statistics\n",
      "        CustomerID          Age\n",
      "count  1000.000000  1000.000000\n",
      "mean   1500.500000    39.892000\n",
      "std     288.819436    13.524394\n",
      "min    1001.000000    18.000000\n",
      "25%    1250.750000    28.000000\n",
      "50%    1500.500000    39.000000\n",
      "75%    1750.250000    51.000000\n",
      "max    2000.000000    64.000000\n",
      "Unique values\n",
      "CustomerID    1000\n",
      "Name          1000\n",
      "Age             47\n",
      "Address       1000\n",
      "dtype: int64\n",
      "===============================================\n",
      "Dataframe name: Account Activity\n",
      "First 5 rows of the dataset\n",
      "   CustomerID  AccountBalance   LastLogin\n",
      "0        1001     9507.272060  2022-01-01\n",
      "1        1002     7408.704536  2022-01-02\n",
      "2        1003     1715.321989  2022-01-03\n",
      "3        1004     3101.509134  2022-01-04\n",
      "4        1005     5405.766914  2022-01-05\n",
      "Data types of the columns\n",
      "CustomerID          int64\n",
      "AccountBalance    float64\n",
      "LastLogin          object\n",
      "dtype: object\n",
      "Number of rows and columns\n",
      "(1000, 3)\n",
      "Columns names\n",
      "Index(['CustomerID', 'AccountBalance', 'LastLogin'], dtype='object')\n",
      "Number of missing values\n",
      "CustomerID        0\n",
      "AccountBalance    0\n",
      "LastLogin         0\n",
      "dtype: int64\n",
      "Summary statistics\n",
      "        CustomerID  AccountBalance\n",
      "count  1000.000000     1000.000000\n",
      "mean   1500.500000     5558.067698\n",
      "std     288.819436     2596.890997\n",
      "min    1001.000000     1009.248716\n",
      "25%    1250.750000     3297.255763\n",
      "50%    1500.500000     5569.672709\n",
      "75%    1750.250000     7910.029699\n",
      "max    2000.000000     9999.776239\n",
      "Unique values\n",
      "CustomerID        1000\n",
      "AccountBalance    1000\n",
      "LastLogin         1000\n",
      "dtype: int64\n",
      "===============================================\n",
      "Dataframe name: Fraud Indicators\n",
      "First 5 rows of the dataset\n",
      "   TransactionID  FraudIndicator\n",
      "0              1               0\n",
      "1              2               0\n",
      "2              3               0\n",
      "3              4               0\n",
      "4              5               0\n",
      "Data types of the columns\n",
      "TransactionID     int64\n",
      "FraudIndicator    int64\n",
      "dtype: object\n",
      "Number of rows and columns\n",
      "(1000, 2)\n",
      "Columns names\n",
      "Index(['TransactionID', 'FraudIndicator'], dtype='object')\n",
      "Number of missing values\n",
      "TransactionID     0\n",
      "FraudIndicator    0\n",
      "dtype: int64\n",
      "Summary statistics\n",
      "       TransactionID  FraudIndicator\n",
      "count    1000.000000     1000.000000\n",
      "mean      500.500000        0.045000\n",
      "std       288.819436        0.207408\n",
      "min         1.000000        0.000000\n",
      "25%       250.750000        0.000000\n",
      "50%       500.500000        0.000000\n",
      "75%       750.250000        0.000000\n",
      "max      1000.000000        1.000000\n",
      "Unique values\n",
      "TransactionID     1000\n",
      "FraudIndicator       2\n",
      "dtype: int64\n",
      "===============================================\n",
      "Dataframe name: Suspicious Activity\n",
      "First 5 rows of the dataset\n",
      "   CustomerID  SuspiciousFlag\n",
      "0        1001               0\n",
      "1        1002               0\n",
      "2        1003               0\n",
      "3        1004               0\n",
      "4        1005               0\n",
      "Data types of the columns\n",
      "CustomerID        int64\n",
      "SuspiciousFlag    int64\n",
      "dtype: object\n",
      "Number of rows and columns\n",
      "(1000, 2)\n",
      "Columns names\n",
      "Index(['CustomerID', 'SuspiciousFlag'], dtype='object')\n",
      "Number of missing values\n",
      "CustomerID        0\n",
      "SuspiciousFlag    0\n",
      "dtype: int64\n",
      "Summary statistics\n",
      "        CustomerID  SuspiciousFlag\n",
      "count  1000.000000     1000.000000\n",
      "mean   1500.500000        0.023000\n",
      "std     288.819436        0.149978\n",
      "min    1001.000000        0.000000\n",
      "25%    1250.750000        0.000000\n",
      "50%    1500.500000        0.000000\n",
      "75%    1750.250000        0.000000\n",
      "max    2000.000000        1.000000\n",
      "Unique values\n",
      "CustomerID        1000\n",
      "SuspiciousFlag       2\n",
      "dtype: int64\n",
      "===============================================\n",
      "Dataframe name: Merchant Data\n",
      "First 5 rows of the dataset\n",
      "   MerchantID   MerchantName       Location\n",
      "0        2001  Merchant 2001  Location 2001\n",
      "1        2002  Merchant 2002  Location 2002\n",
      "2        2003  Merchant 2003  Location 2003\n",
      "3        2004  Merchant 2004  Location 2004\n",
      "4        2005  Merchant 2005  Location 2005\n",
      "Data types of the columns\n",
      "MerchantID       int64\n",
      "MerchantName    object\n",
      "Location        object\n",
      "dtype: object\n",
      "Number of rows and columns\n",
      "(1000, 3)\n",
      "Columns names\n",
      "Index(['MerchantID', 'MerchantName', 'Location'], dtype='object')\n",
      "Number of missing values\n",
      "MerchantID      0\n",
      "MerchantName    0\n",
      "Location        0\n",
      "dtype: int64\n",
      "Summary statistics\n",
      "        MerchantID\n",
      "count  1000.000000\n",
      "mean   2500.500000\n",
      "std     288.819436\n",
      "min    2001.000000\n",
      "25%    2250.750000\n",
      "50%    2500.500000\n",
      "75%    2750.250000\n",
      "max    3000.000000\n",
      "Unique values\n",
      "MerchantID      1000\n",
      "MerchantName    1000\n",
      "Location        1000\n",
      "dtype: int64\n",
      "===============================================\n",
      "Dataframe name: Transaction Category Labels\n",
      "First 5 rows of the dataset\n",
      "   TransactionID Category\n",
      "0              1    Other\n",
      "1              2   Online\n",
      "2              3   Travel\n",
      "3              4   Travel\n",
      "4              5    Other\n",
      "Data types of the columns\n",
      "TransactionID     int64\n",
      "Category         object\n",
      "dtype: object\n",
      "Number of rows and columns\n",
      "(1000, 2)\n",
      "Columns names\n",
      "Index(['TransactionID', 'Category'], dtype='object')\n",
      "Number of missing values\n",
      "TransactionID    0\n",
      "Category         0\n",
      "dtype: int64\n",
      "Summary statistics\n",
      "       TransactionID\n",
      "count    1000.000000\n",
      "mean      500.500000\n",
      "std       288.819436\n",
      "min         1.000000\n",
      "25%       250.750000\n",
      "50%       500.500000\n",
      "75%       750.250000\n",
      "max      1000.000000\n",
      "Unique values\n",
      "TransactionID    1000\n",
      "Category            5\n",
      "dtype: int64\n",
      "===============================================\n",
      "Dataframe name: Amount Data\n",
      "First 5 rows of the dataset\n",
      "   TransactionID  TransactionAmount\n",
      "0              1          79.413607\n",
      "1              2          12.053087\n",
      "2              3          33.310357\n",
      "3              4          46.121117\n",
      "4              5          54.051618\n",
      "Data types of the columns\n",
      "TransactionID          int64\n",
      "TransactionAmount    float64\n",
      "dtype: object\n",
      "Number of rows and columns\n",
      "(1000, 2)\n",
      "Columns names\n",
      "Index(['TransactionID', 'TransactionAmount'], dtype='object')\n",
      "Number of missing values\n",
      "TransactionID        0\n",
      "TransactionAmount    0\n",
      "dtype: int64\n",
      "Summary statistics\n",
      "       TransactionID  TransactionAmount\n",
      "count    1000.000000        1000.000000\n",
      "mean      500.500000          55.853826\n",
      "std       288.819436          26.093606\n",
      "min         1.000000          10.057864\n",
      "25%       250.750000          33.875129\n",
      "50%       500.500000          55.958313\n",
      "75%       750.250000          77.589391\n",
      "max      1000.000000          99.784323\n",
      "Unique values\n",
      "TransactionID        1000\n",
      "TransactionAmount    1000\n",
      "dtype: int64\n",
      "===============================================\n",
      "Dataframe name: Anomaly Scores\n",
      "First 5 rows of the dataset\n",
      "   TransactionID  AnomalyScore\n",
      "0              1      0.686699\n",
      "1              2      0.081749\n",
      "2              3      0.023857\n",
      "3              4      0.876994\n",
      "4              5      0.034059\n",
      "Data types of the columns\n",
      "TransactionID      int64\n",
      "AnomalyScore     float64\n",
      "dtype: object\n",
      "Number of rows and columns\n",
      "(1000, 2)\n",
      "Columns names\n",
      "Index(['TransactionID', 'AnomalyScore'], dtype='object')\n",
      "Number of missing values\n",
      "TransactionID    0\n",
      "AnomalyScore     0\n",
      "dtype: int64\n",
      "Summary statistics\n",
      "       TransactionID  AnomalyScore\n",
      "count    1000.000000   1000.000000\n",
      "mean      500.500000      0.492282\n",
      "std       288.819436      0.288423\n",
      "min         1.000000      0.000234\n",
      "25%       250.750000      0.251802\n",
      "50%       500.500000      0.490242\n",
      "75%       750.250000      0.741888\n",
      "max      1000.000000      0.999047\n",
      "Unique values\n",
      "TransactionID    1000\n",
      "AnomalyScore     1000\n",
      "dtype: int64\n",
      "===============================================\n",
      "Dataframe name: Transaction Metadata\n",
      "First 5 rows of the dataset\n",
      "   TransactionID            Timestamp  MerchantID\n",
      "0              1  2022-01-01 00:00:00        2701\n",
      "1              2  2022-01-01 01:00:00        2070\n",
      "2              3  2022-01-01 02:00:00        2238\n",
      "3              4  2022-01-01 03:00:00        2879\n",
      "4              5  2022-01-01 04:00:00        2966\n",
      "Data types of the columns\n",
      "TransactionID     int64\n",
      "Timestamp        object\n",
      "MerchantID        int64\n",
      "dtype: object\n",
      "Number of rows and columns\n",
      "(1000, 3)\n",
      "Columns names\n",
      "Index(['TransactionID', 'Timestamp', 'MerchantID'], dtype='object')\n",
      "Number of missing values\n",
      "TransactionID    0\n",
      "Timestamp        0\n",
      "MerchantID       0\n",
      "dtype: int64\n",
      "Summary statistics\n",
      "       TransactionID   MerchantID\n",
      "count    1000.000000  1000.000000\n",
      "mean      500.500000  2504.701000\n",
      "std       288.819436   288.414883\n",
      "min         1.000000  2001.000000\n",
      "25%       250.750000  2254.500000\n",
      "50%       500.500000  2500.500000\n",
      "75%       750.250000  2761.250000\n",
      "max      1000.000000  3000.000000\n",
      "Unique values\n",
      "TransactionID    1000\n",
      "Timestamp        1000\n",
      "MerchantID        651\n",
      "dtype: int64\n",
      "===============================================\n",
      "Dataframe name: Transaction Records\n",
      "First 5 rows of the dataset\n",
      "   TransactionID     Amount  CustomerID\n",
      "0              1  55.530334        1952\n",
      "1              2  12.881180        1027\n",
      "2              3  50.176322        1955\n",
      "3              4  41.634001        1796\n",
      "4              5  78.122853        1946\n",
      "Data types of the columns\n",
      "TransactionID      int64\n",
      "Amount           float64\n",
      "CustomerID         int64\n",
      "dtype: object\n",
      "Number of rows and columns\n",
      "(1000, 3)\n",
      "Columns names\n",
      "Index(['TransactionID', 'Amount', 'CustomerID'], dtype='object')\n",
      "Number of missing values\n",
      "TransactionID    0\n",
      "Amount           0\n",
      "CustomerID       0\n",
      "dtype: int64\n",
      "Summary statistics\n",
      "       TransactionID       Amount   CustomerID\n",
      "count    1000.000000  1000.000000  1000.000000\n",
      "mean      500.500000    55.394871  1496.626000\n",
      "std       288.819436    25.070809   289.229047\n",
      "min         1.000000    10.006933  1001.000000\n",
      "25%       250.750000    34.502315  1239.000000\n",
      "50%       500.500000    57.844325  1501.000000\n",
      "75%       750.250000    75.858576  1739.250000\n",
      "max      1000.000000    99.887410  2000.000000\n",
      "Unique values\n",
      "TransactionID    1000\n",
      "Amount           1000\n",
      "CustomerID        636\n",
      "dtype: int64\n",
      "===============================================\n"
     ]
    }
   ],
   "source": [
    "# uso la funcion first look para cada df\n",
    "for name, df in dataframes_dict.items():\n",
    "    first_look_eda(df, name)"
   ]
  },
  {
   "cell_type": "markdown",
   "id": "40342051",
   "metadata": {},
   "source": [
    ">Account Activity\n",
    ">\n",
    ">1. formateo campo LastLogin => object a date\n",
    ">\n",
    ">Transaction Metadata\n",
    ">\n",
    ">1. campo Timestamp => object a timestamp\n",
    ">\n",
    "><br>\n",
    "> Excepto por esos campos en esos dataframes que les falta formato,\n",
    "> no parecen existir datos nulos."
   ]
  },
  {
   "cell_type": "markdown",
   "id": "3e4eaba3",
   "metadata": {},
   "source": [
    "## Data Wrangling\n"
   ]
  },
  {
   "cell_type": "markdown",
   "id": "9d0de30b",
   "metadata": {},
   "source": [
    "Viendo que las tablas contienen IDs para relacionarlas armaré un join para obtener una tabla unica relacionada"
   ]
  },
  {
   "cell_type": "code",
   "execution_count": null,
   "id": "97a226cf",
   "metadata": {},
   "outputs": [],
   "source": []
  },
  {
   "cell_type": "code",
   "execution_count": 8,
   "id": "0fddf85a",
   "metadata": {},
   "outputs": [],
   "source": [
    "# parto de las transacciones (Transaction Metadata)\n",
    "df_join_1=df_trx_metadata.join(df_trx_records.set_index('TransactionID'), on='TransactionID', how='left')"
   ]
  },
  {
   "cell_type": "code",
   "execution_count": 9,
   "id": "c1f7768e",
   "metadata": {},
   "outputs": [],
   "source": [
    "# ahora agrego los montos (Amount Data)\n",
    "df_join_2 = df_join_1.join(df_amounts.set_index('TransactionID'), on='TransactionID', how='left')"
   ]
  },
  {
   "cell_type": "code",
   "execution_count": 10,
   "id": "4e7b622c",
   "metadata": {},
   "outputs": [],
   "source": [
    "# ahora agrego las etiquetas de las categorias (Transaction Category Labels)\n",
    "df_join_3 = df_join_2.join(df_trx_cat_labels.set_index('TransactionID'), on='TransactionID', how='left')"
   ]
  },
  {
   "cell_type": "code",
   "execution_count": 11,
   "id": "6e26fb27",
   "metadata": {},
   "outputs": [],
   "source": [
    "# agrego merchant data\n",
    "df_join_4 = df_join_3.join(df_merchants.set_index('MerchantID'), on='MerchantID', how='left')"
   ]
  },
  {
   "cell_type": "code",
   "execution_count": 12,
   "id": "56d34be0",
   "metadata": {},
   "outputs": [],
   "source": [
    "# agrego customer data\n",
    "df_join_5 = df_join_4.join(df_customer.set_index('CustomerID'), on='CustomerID', how='left')"
   ]
  },
  {
   "cell_type": "code",
   "execution_count": 13,
   "id": "34903749",
   "metadata": {},
   "outputs": [],
   "source": [
    "# agrego account activity del customer\n",
    "df_join_6 = df_join_5.join(df_account_activity.set_index('CustomerID'), on='CustomerID', how='left')"
   ]
  },
  {
   "cell_type": "code",
   "execution_count": 14,
   "id": "d6e68a84",
   "metadata": {},
   "outputs": [],
   "source": [
    "# agrego anomaly scores\n",
    "df_join_7 = df_join_6.join(df_anomaly_scores.set_index('TransactionID'), on='TransactionID', how='left')"
   ]
  },
  {
   "cell_type": "code",
   "execution_count": 15,
   "id": "fc3dc7e3",
   "metadata": {},
   "outputs": [],
   "source": [
    "# y por ultimo agrego los fraudulent patterns\n",
    "df_join_8 = df_join_7.join(df_fraud.set_index('TransactionID'), on='TransactionID', how='left')\n",
    "df_join_9 = df_join_8.join(df_susp_activity.set_index('CustomerID'), on='CustomerID', how='left')"
   ]
  },
  {
   "cell_type": "code",
   "execution_count": 16,
   "id": "4ab4f04a",
   "metadata": {},
   "outputs": [],
   "source": [
    "# renombro la variable para que sea mas descriptiva\n",
    "df_joined = df_join_9"
   ]
  },
  {
   "cell_type": "code",
   "execution_count": 17,
   "id": "3d2808d2",
   "metadata": {},
   "outputs": [
    {
     "name": "stdout",
     "output_type": "stream",
     "text": [
      "Dataframe name: Joined Data\n",
      "First 5 rows of the dataset\n",
      "   TransactionID            Timestamp  MerchantID     Amount  CustomerID  \\\n",
      "0              1  2022-01-01 00:00:00        2701  55.530334        1952   \n",
      "1              2  2022-01-01 01:00:00        2070  12.881180        1027   \n",
      "2              3  2022-01-01 02:00:00        2238  50.176322        1955   \n",
      "3              4  2022-01-01 03:00:00        2879  41.634001        1796   \n",
      "4              5  2022-01-01 04:00:00        2966  78.122853        1946   \n",
      "\n",
      "   TransactionAmount Category   MerchantName       Location           Name  \\\n",
      "0          79.413607    Other  Merchant 2701  Location 2701  Customer 1952   \n",
      "1          12.053087   Online  Merchant 2070  Location 2070  Customer 1027   \n",
      "2          33.310357   Travel  Merchant 2238  Location 2238  Customer 1955   \n",
      "3          46.121117   Travel  Merchant 2879  Location 2879  Customer 1796   \n",
      "4          54.051618    Other  Merchant 2966  Location 2966  Customer 1946   \n",
      "\n",
      "   Age       Address  AccountBalance   LastLogin  AnomalyScore  \\\n",
      "0   50  Address 1952     2869.689912  2024-08-09      0.686699   \n",
      "1   46  Address 1027     9527.947107  2022-01-27      0.081749   \n",
      "2   34  Address 1955     9288.355525  2024-08-12      0.023857   \n",
      "3   33  Address 1796     5588.049942  2024-03-06      0.876994   \n",
      "4   18  Address 1946     7324.785332  2024-08-03      0.034059   \n",
      "\n",
      "   FraudIndicator  SuspiciousFlag  \n",
      "0               0               0  \n",
      "1               0               0  \n",
      "2               0               0  \n",
      "3               0               0  \n",
      "4               0               0  \n",
      "Data types of the columns\n",
      "TransactionID          int64\n",
      "Timestamp             object\n",
      "MerchantID             int64\n",
      "Amount               float64\n",
      "CustomerID             int64\n",
      "TransactionAmount    float64\n",
      "Category              object\n",
      "MerchantName          object\n",
      "Location              object\n",
      "Name                  object\n",
      "Age                    int64\n",
      "Address               object\n",
      "AccountBalance       float64\n",
      "LastLogin             object\n",
      "AnomalyScore         float64\n",
      "FraudIndicator         int64\n",
      "SuspiciousFlag         int64\n",
      "dtype: object\n",
      "Number of rows and columns\n",
      "(1000, 17)\n",
      "Columns names\n",
      "Index(['TransactionID', 'Timestamp', 'MerchantID', 'Amount', 'CustomerID',\n",
      "       'TransactionAmount', 'Category', 'MerchantName', 'Location', 'Name',\n",
      "       'Age', 'Address', 'AccountBalance', 'LastLogin', 'AnomalyScore',\n",
      "       'FraudIndicator', 'SuspiciousFlag'],\n",
      "      dtype='object')\n",
      "Number of missing values\n",
      "TransactionID        0\n",
      "Timestamp            0\n",
      "MerchantID           0\n",
      "Amount               0\n",
      "CustomerID           0\n",
      "TransactionAmount    0\n",
      "Category             0\n",
      "MerchantName         0\n",
      "Location             0\n",
      "Name                 0\n",
      "Age                  0\n",
      "Address              0\n",
      "AccountBalance       0\n",
      "LastLogin            0\n",
      "AnomalyScore         0\n",
      "FraudIndicator       0\n",
      "SuspiciousFlag       0\n",
      "dtype: int64\n",
      "Summary statistics\n",
      "       TransactionID   MerchantID       Amount   CustomerID  \\\n",
      "count    1000.000000  1000.000000  1000.000000  1000.000000   \n",
      "mean      500.500000  2504.701000    55.394871  1496.626000   \n",
      "std       288.819436   288.414883    25.070809   289.229047   \n",
      "min         1.000000  2001.000000    10.006933  1001.000000   \n",
      "25%       250.750000  2254.500000    34.502315  1239.000000   \n",
      "50%       500.500000  2500.500000    57.844325  1501.000000   \n",
      "75%       750.250000  2761.250000    75.858576  1739.250000   \n",
      "max      1000.000000  3000.000000    99.887410  2000.000000   \n",
      "\n",
      "       TransactionAmount          Age  AccountBalance  AnomalyScore  \\\n",
      "count        1000.000000  1000.000000     1000.000000   1000.000000   \n",
      "mean           55.853826    39.848000     5715.455931      0.492282   \n",
      "std            26.093606    13.074932     2540.517262      0.288423   \n",
      "min            10.057864    18.000000     1056.301181      0.000234   \n",
      "25%            33.875129    29.000000     3489.554711      0.251802   \n",
      "50%            55.958313    39.000000     5753.007775      0.490242   \n",
      "75%            77.589391    51.000000     7925.710167      0.741888   \n",
      "max            99.784323    64.000000     9999.776239      0.999047   \n",
      "\n",
      "       FraudIndicator  SuspiciousFlag  \n",
      "count     1000.000000     1000.000000  \n",
      "mean         0.045000        0.025000  \n",
      "std          0.207408        0.156203  \n",
      "min          0.000000        0.000000  \n",
      "25%          0.000000        0.000000  \n",
      "50%          0.000000        0.000000  \n",
      "75%          0.000000        0.000000  \n",
      "max          1.000000        1.000000  \n",
      "Unique values\n",
      "TransactionID        1000\n",
      "Timestamp            1000\n",
      "MerchantID            651\n",
      "Amount               1000\n",
      "CustomerID            636\n",
      "TransactionAmount    1000\n",
      "Category                5\n",
      "MerchantName          651\n",
      "Location              651\n",
      "Name                  636\n",
      "Age                    47\n",
      "Address               636\n",
      "AccountBalance        636\n",
      "LastLogin             636\n",
      "AnomalyScore         1000\n",
      "FraudIndicator          2\n",
      "SuspiciousFlag          2\n",
      "dtype: int64\n",
      "===============================================\n"
     ]
    }
   ],
   "source": [
    "# probemos pasar este nuevo df por la funcion first_look_eda\n",
    "first_look_eda(df_joined, \"Joined Data\")"
   ]
  },
  {
   "cell_type": "code",
   "execution_count": 18,
   "id": "80dc0156",
   "metadata": {},
   "outputs": [
    {
     "data": {
      "text/plain": [
       "(1000, 17)"
      ]
     },
     "execution_count": 18,
     "metadata": {},
     "output_type": "execute_result"
    }
   ],
   "source": [
    "df_joined.shape"
   ]
  },
  {
   "cell_type": "code",
   "execution_count": 19,
   "id": "73d5e01b",
   "metadata": {},
   "outputs": [
    {
     "data": {
      "text/plain": [
       "(1000, 17)"
      ]
     },
     "execution_count": 19,
     "metadata": {},
     "output_type": "execute_result"
    }
   ],
   "source": [
    "# chequeo si hay duplicados\n",
    "df_joined.drop_duplicates().shape"
   ]
  },
  {
   "cell_type": "code",
   "execution_count": 20,
   "id": "9fae3e1f",
   "metadata": {},
   "outputs": [],
   "source": [
    "# formateo los campos de fecha que eran LastLogin y Timestamp\n",
    "df_joined['LastLogin'] = pd.to_datetime(df_joined['LastLogin'])"
   ]
  },
  {
   "cell_type": "code",
   "execution_count": 21,
   "id": "acdf63a7",
   "metadata": {},
   "outputs": [],
   "source": [
    "df_joined['Timestamp'] = pd.to_datetime(df_joined['Timestamp'])"
   ]
  },
  {
   "cell_type": "code",
   "execution_count": 22,
   "id": "468f186d",
   "metadata": {},
   "outputs": [
    {
     "name": "stdout",
     "output_type": "stream",
     "text": [
      "<class 'pandas.core.frame.DataFrame'>\n",
      "RangeIndex: 1000 entries, 0 to 999\n",
      "Data columns (total 17 columns):\n",
      " #   Column             Non-Null Count  Dtype         \n",
      "---  ------             --------------  -----         \n",
      " 0   TransactionID      1000 non-null   int64         \n",
      " 1   Timestamp          1000 non-null   datetime64[ns]\n",
      " 2   MerchantID         1000 non-null   int64         \n",
      " 3   Amount             1000 non-null   float64       \n",
      " 4   CustomerID         1000 non-null   int64         \n",
      " 5   TransactionAmount  1000 non-null   float64       \n",
      " 6   Category           1000 non-null   object        \n",
      " 7   MerchantName       1000 non-null   object        \n",
      " 8   Location           1000 non-null   object        \n",
      " 9   Name               1000 non-null   object        \n",
      " 10  Age                1000 non-null   int64         \n",
      " 11  Address            1000 non-null   object        \n",
      " 12  AccountBalance     1000 non-null   float64       \n",
      " 13  LastLogin          1000 non-null   datetime64[ns]\n",
      " 14  AnomalyScore       1000 non-null   float64       \n",
      " 15  FraudIndicator     1000 non-null   int64         \n",
      " 16  SuspiciousFlag     1000 non-null   int64         \n",
      "dtypes: datetime64[ns](2), float64(4), int64(6), object(5)\n",
      "memory usage: 132.9+ KB\n"
     ]
    }
   ],
   "source": [
    "df_joined.info()"
   ]
  },
  {
   "cell_type": "code",
   "execution_count": 23,
   "id": "d8e7e547",
   "metadata": {},
   "outputs": [
    {
     "data": {
      "text/html": [
       "<div>\n",
       "<style scoped>\n",
       "    .dataframe tbody tr th:only-of-type {\n",
       "        vertical-align: middle;\n",
       "    }\n",
       "\n",
       "    .dataframe tbody tr th {\n",
       "        vertical-align: top;\n",
       "    }\n",
       "\n",
       "    .dataframe thead th {\n",
       "        text-align: right;\n",
       "    }\n",
       "</style>\n",
       "<table border=\"1\" class=\"dataframe\">\n",
       "  <thead>\n",
       "    <tr style=\"text-align: right;\">\n",
       "      <th></th>\n",
       "      <th>TransactionID</th>\n",
       "      <th>Timestamp</th>\n",
       "      <th>MerchantID</th>\n",
       "      <th>Amount</th>\n",
       "      <th>CustomerID</th>\n",
       "      <th>TransactionAmount</th>\n",
       "      <th>Category</th>\n",
       "      <th>MerchantName</th>\n",
       "      <th>Location</th>\n",
       "      <th>Name</th>\n",
       "      <th>Age</th>\n",
       "      <th>Address</th>\n",
       "      <th>AccountBalance</th>\n",
       "      <th>LastLogin</th>\n",
       "      <th>AnomalyScore</th>\n",
       "      <th>FraudIndicator</th>\n",
       "      <th>SuspiciousFlag</th>\n",
       "    </tr>\n",
       "  </thead>\n",
       "  <tbody>\n",
       "    <tr>\n",
       "      <th>0</th>\n",
       "      <td>1</td>\n",
       "      <td>2022-01-01 00:00:00</td>\n",
       "      <td>2701</td>\n",
       "      <td>55.530334</td>\n",
       "      <td>1952</td>\n",
       "      <td>79.413607</td>\n",
       "      <td>Other</td>\n",
       "      <td>Merchant 2701</td>\n",
       "      <td>Location 2701</td>\n",
       "      <td>Customer 1952</td>\n",
       "      <td>50</td>\n",
       "      <td>Address 1952</td>\n",
       "      <td>2869.689912</td>\n",
       "      <td>2024-08-09</td>\n",
       "      <td>0.686699</td>\n",
       "      <td>0</td>\n",
       "      <td>0</td>\n",
       "    </tr>\n",
       "    <tr>\n",
       "      <th>1</th>\n",
       "      <td>2</td>\n",
       "      <td>2022-01-01 01:00:00</td>\n",
       "      <td>2070</td>\n",
       "      <td>12.881180</td>\n",
       "      <td>1027</td>\n",
       "      <td>12.053087</td>\n",
       "      <td>Online</td>\n",
       "      <td>Merchant 2070</td>\n",
       "      <td>Location 2070</td>\n",
       "      <td>Customer 1027</td>\n",
       "      <td>46</td>\n",
       "      <td>Address 1027</td>\n",
       "      <td>9527.947107</td>\n",
       "      <td>2022-01-27</td>\n",
       "      <td>0.081749</td>\n",
       "      <td>0</td>\n",
       "      <td>0</td>\n",
       "    </tr>\n",
       "    <tr>\n",
       "      <th>2</th>\n",
       "      <td>3</td>\n",
       "      <td>2022-01-01 02:00:00</td>\n",
       "      <td>2238</td>\n",
       "      <td>50.176322</td>\n",
       "      <td>1955</td>\n",
       "      <td>33.310357</td>\n",
       "      <td>Travel</td>\n",
       "      <td>Merchant 2238</td>\n",
       "      <td>Location 2238</td>\n",
       "      <td>Customer 1955</td>\n",
       "      <td>34</td>\n",
       "      <td>Address 1955</td>\n",
       "      <td>9288.355525</td>\n",
       "      <td>2024-08-12</td>\n",
       "      <td>0.023857</td>\n",
       "      <td>0</td>\n",
       "      <td>0</td>\n",
       "    </tr>\n",
       "    <tr>\n",
       "      <th>3</th>\n",
       "      <td>4</td>\n",
       "      <td>2022-01-01 03:00:00</td>\n",
       "      <td>2879</td>\n",
       "      <td>41.634001</td>\n",
       "      <td>1796</td>\n",
       "      <td>46.121117</td>\n",
       "      <td>Travel</td>\n",
       "      <td>Merchant 2879</td>\n",
       "      <td>Location 2879</td>\n",
       "      <td>Customer 1796</td>\n",
       "      <td>33</td>\n",
       "      <td>Address 1796</td>\n",
       "      <td>5588.049942</td>\n",
       "      <td>2024-03-06</td>\n",
       "      <td>0.876994</td>\n",
       "      <td>0</td>\n",
       "      <td>0</td>\n",
       "    </tr>\n",
       "    <tr>\n",
       "      <th>4</th>\n",
       "      <td>5</td>\n",
       "      <td>2022-01-01 04:00:00</td>\n",
       "      <td>2966</td>\n",
       "      <td>78.122853</td>\n",
       "      <td>1946</td>\n",
       "      <td>54.051618</td>\n",
       "      <td>Other</td>\n",
       "      <td>Merchant 2966</td>\n",
       "      <td>Location 2966</td>\n",
       "      <td>Customer 1946</td>\n",
       "      <td>18</td>\n",
       "      <td>Address 1946</td>\n",
       "      <td>7324.785332</td>\n",
       "      <td>2024-08-03</td>\n",
       "      <td>0.034059</td>\n",
       "      <td>0</td>\n",
       "      <td>0</td>\n",
       "    </tr>\n",
       "  </tbody>\n",
       "</table>\n",
       "</div>"
      ],
      "text/plain": [
       "   TransactionID           Timestamp  MerchantID     Amount  CustomerID  \\\n",
       "0              1 2022-01-01 00:00:00        2701  55.530334        1952   \n",
       "1              2 2022-01-01 01:00:00        2070  12.881180        1027   \n",
       "2              3 2022-01-01 02:00:00        2238  50.176322        1955   \n",
       "3              4 2022-01-01 03:00:00        2879  41.634001        1796   \n",
       "4              5 2022-01-01 04:00:00        2966  78.122853        1946   \n",
       "\n",
       "   TransactionAmount Category   MerchantName       Location           Name  \\\n",
       "0          79.413607    Other  Merchant 2701  Location 2701  Customer 1952   \n",
       "1          12.053087   Online  Merchant 2070  Location 2070  Customer 1027   \n",
       "2          33.310357   Travel  Merchant 2238  Location 2238  Customer 1955   \n",
       "3          46.121117   Travel  Merchant 2879  Location 2879  Customer 1796   \n",
       "4          54.051618    Other  Merchant 2966  Location 2966  Customer 1946   \n",
       "\n",
       "   Age       Address  AccountBalance  LastLogin  AnomalyScore  FraudIndicator  \\\n",
       "0   50  Address 1952     2869.689912 2024-08-09      0.686699               0   \n",
       "1   46  Address 1027     9527.947107 2022-01-27      0.081749               0   \n",
       "2   34  Address 1955     9288.355525 2024-08-12      0.023857               0   \n",
       "3   33  Address 1796     5588.049942 2024-03-06      0.876994               0   \n",
       "4   18  Address 1946     7324.785332 2024-08-03      0.034059               0   \n",
       "\n",
       "   SuspiciousFlag  \n",
       "0               0  \n",
       "1               0  \n",
       "2               0  \n",
       "3               0  \n",
       "4               0  "
      ]
     },
     "execution_count": 23,
     "metadata": {},
     "output_type": "execute_result"
    }
   ],
   "source": [
    "df_joined.head()"
   ]
  },
  {
   "cell_type": "code",
   "execution_count": 24,
   "id": "0c430b23",
   "metadata": {},
   "outputs": [
    {
     "data": {
      "text/plain": [
       "Index(['TransactionID', 'Timestamp', 'MerchantID', 'Amount', 'CustomerID',\n",
       "       'TransactionAmount', 'Category', 'MerchantName', 'Location', 'Name',\n",
       "       'Age', 'Address', 'AccountBalance', 'LastLogin', 'AnomalyScore',\n",
       "       'FraudIndicator', 'SuspiciousFlag'],\n",
       "      dtype='object')"
      ]
     },
     "execution_count": 24,
     "metadata": {},
     "output_type": "execute_result"
    }
   ],
   "source": [
    "df_joined.columns"
   ]
  },
  {
   "cell_type": "code",
   "execution_count": 25,
   "id": "a2e41883",
   "metadata": {},
   "outputs": [],
   "source": [
    "# renombro las columnas de df_joined para que sean mas descriptivas\n",
    "df_joined.rename(columns={'TransactionID': 'trx_id',\n",
    "                          'Timestamp': 'trx_timestamp',\n",
    "                          'MerchantID': 'merchant_id',\n",
    "                          'Amount': 'trx_amount',\n",
    "                          'CustomerID': 'customer_id',\n",
    "                          'TransactionAmount': 'amount_data_amount', \n",
    "                          'Category': 'trx_category', \n",
    "                          'MerchantName': 'merchant_name',\n",
    "                          'Location': 'merchant_location', \n",
    "                          'Name': 'customer_name',\n",
    "                          'Age': 'customer_age', \n",
    "                          'Address': 'customer_address', \n",
    "                          'AccountBalance': 'account_balance',\n",
    "                          'LastLogin': 'account_last_login', \n",
    "                          'AnomalyScore': 'anomaly_score',\n",
    "                          'FraudIndicator': 'fraud_indicator', \n",
    "                          'SuspiciousFlag': 'suspicious_flag'}, inplace=True)"
   ]
  },
  {
   "cell_type": "code",
   "execution_count": 26,
   "id": "f89f0dd2",
   "metadata": {},
   "outputs": [
    {
     "data": {
      "text/plain": [
       "Index(['trx_id', 'merchant_id', 'trx_amount', 'customer_id',\n",
       "       'amount_data_amount', 'customer_age', 'account_balance',\n",
       "       'anomaly_score', 'fraud_indicator', 'suspicious_flag'],\n",
       "      dtype='object')"
      ]
     },
     "execution_count": 26,
     "metadata": {},
     "output_type": "execute_result"
    }
   ],
   "source": [
    "df_joined.select_dtypes(include=['int64', 'float64']).columns"
   ]
  },
  {
   "cell_type": "code",
   "execution_count": 47,
   "id": "32c1373c",
   "metadata": {},
   "outputs": [
    {
     "name": "stdout",
     "output_type": "stream",
     "text": [
      "<class 'pandas.core.frame.DataFrame'>\n",
      "RangeIndex: 1000 entries, 0 to 999\n",
      "Data columns (total 17 columns):\n",
      " #   Column              Non-Null Count  Dtype         \n",
      "---  ------              --------------  -----         \n",
      " 0   trx_id              1000 non-null   int64         \n",
      " 1   trx_timestamp       1000 non-null   datetime64[ns]\n",
      " 2   merchant_id         1000 non-null   int64         \n",
      " 3   trx_amount          1000 non-null   float64       \n",
      " 4   customer_id         1000 non-null   int64         \n",
      " 5   amount_data_amount  1000 non-null   float64       \n",
      " 6   trx_category        1000 non-null   object        \n",
      " 7   merchant_name       1000 non-null   object        \n",
      " 8   merchant_location   1000 non-null   object        \n",
      " 9   customer_name       1000 non-null   object        \n",
      " 10  customer_age        1000 non-null   int64         \n",
      " 11  customer_address    1000 non-null   object        \n",
      " 12  account_balance     1000 non-null   float64       \n",
      " 13  account_last_login  1000 non-null   datetime64[ns]\n",
      " 14  anomaly_score       1000 non-null   float64       \n",
      " 15  fraud_indicator     1000 non-null   int64         \n",
      " 16  suspicious_flag     1000 non-null   int64         \n",
      "dtypes: datetime64[ns](2), float64(4), int64(6), object(5)\n",
      "memory usage: 132.9+ KB\n"
     ]
    }
   ],
   "source": [
    "df_joined.info()"
   ]
  },
  {
   "cell_type": "code",
   "execution_count": 27,
   "id": "152c7c11",
   "metadata": {},
   "outputs": [
    {
     "data": {
      "image/png": "[encoded data removed]",
      "text/plain": [
       "<Figure size 800x800 with 6 Axes>"
      ]
     },
     "metadata": {},
     "output_type": "display_data"
    }
   ],
   "source": [
    "# Obtener las columnas numéricas del dataframe\n",
    "numeric_columns = df_joined.select_dtypes(include=['int64', 'float64']).columns\n",
    "\n",
    "# Excluir las columnas de identificación, flags y fraud_indicator\n",
    "excluded_columns = ['trx_id', 'merchant_id', 'customer_id', 'fraud_indicator','suspicious_flag']\n",
    "numeric_columns = [col for col in numeric_columns if col not in excluded_columns]\n",
    "\n",
    "# Calcular el número de filas y columnas para la grilla de histogramas\n",
    "num_cols = 2\n",
    "num_rows = len(numeric_columns) // 2 + len(numeric_columns) % 2\n",
    "\n",
    "\n",
    "# Crear la figura y los ejes de la grilla\n",
    "fig, axes = plt.subplots(num_rows, num_cols, figsize=(8, 8))\n",
    "\n",
    "# Iterar por cada columna numérica y crear un histograma en el eje correspondiente\n",
    "for current_idx, col in enumerate(numeric_columns):\n",
    "    i = current_idx // num_cols\n",
    "    j = current_idx % num_cols\n",
    "    sns.histplot(df_joined[col], ax=axes[i][j],kde=True)\n",
    "    axes[i][j].set_title(col)\n",
    "    axes[i][j].set_xlabel(\"\")\n",
    "\n",
    "# Ajustar los espacios entre los subplots\n",
    "plt.tight_layout()"
   ]
  },
  {
   "cell_type": "markdown",
   "id": "1bd0ea82",
   "metadata": {},
   "source": [
    "### Identifico variables"
   ]
  },
  {
   "cell_type": "code",
   "execution_count": 61,
   "id": "e39cf40a",
   "metadata": {},
   "outputs": [],
   "source": [
    "# variables categoricas\n",
    "v_cat = ['trx_category','fraud_indicator','suspicious_flag']\n",
    "# variables cuantitativas\n",
    "v_num = ['trx_amount','amount_data_amount','customer_age','account_balance','anomaly_score']"
   ]
  },
  {
   "cell_type": "markdown",
   "id": "563c541b",
   "metadata": {},
   "source": [
    "### Boxplot"
   ]
  },
  {
   "cell_type": "code",
   "execution_count": 63,
   "id": "5ad99d3e",
   "metadata": {},
   "outputs": [
    {
     "data": {
      "image/png": "[encoded data removed]",
      "text/plain": [
       "<Figure size 1500x600 with 5 Axes>"
      ]
     },
     "metadata": {},
     "output_type": "display_data"
    }
   ],
   "source": [
    "# numericos\n",
    "variables = v_num\n",
    "\n",
    "fig, axes = plt.subplots(1, len(variables), figsize=(15,6))\n",
    "\n",
    "for ax, variable in zip(axes, variables):\n",
    "    ax = sns.boxplot( y=variable, data=df_joined, ax=ax)\n",
    "plt.tight_layout()"
   ]
  },
  {
   "cell_type": "code",
   "execution_count": 64,
   "id": "b08b9d68",
   "metadata": {},
   "outputs": [
    {
     "data": {
      "image/png": "[encoded data removed]",
      "text/plain": [
       "<Figure size 1500x600 with 3 Axes>"
      ]
     },
     "metadata": {},
     "output_type": "display_data"
    }
   ],
   "source": [
    "# categoricas\n",
    "variables = v_cat\n",
    "\n",
    "fig, axes = plt.subplots(1, len(variables), figsize=(15,6))\n",
    "\n",
    "for ax, variable in zip(axes, variables):\n",
    "    ax = sns.boxplot( y=variable, data=df_joined, ax=ax)\n",
    "plt.tight_layout()"
   ]
  },
  {
   "cell_type": "code",
   "execution_count": 81,
   "id": "95fb1f4c",
   "metadata": {
    "vscode": {
     "languageId": "ruby"
    }
   },
   "outputs": [
    {
     "data": {
      "text/plain": [
       "<Axes: xlabel='fraud_indicator', ylabel='Count'>"
      ]
     },
     "execution_count": 81,
     "metadata": {},
     "output_type": "execute_result"
    },
    {
     "data": {
      "image/png": "[encoded data removed]",
      "text/plain": [
       "<Figure size 640x480 with 1 Axes>"
      ]
     },
     "metadata": {},
     "output_type": "display_data"
    }
   ],
   "source": [
    "# \n",
    "feature = 'fraud_indicator'\n",
    "\n",
    "sns.histplot(df_joined, x=feature, kde=True)"
   ]
  },
  {
   "cell_type": "markdown",
   "id": "cc65bcb8",
   "metadata": {},
   "source": [
    "Vemos que el dataset es muy desbalanceado respecto a los indicadores \"fraud indicator\" y \"suspicious flag\" "
   ]
  },
  {
   "cell_type": "markdown",
   "id": "cb849181",
   "metadata": {},
   "source": [
    "### Correlacion"
   ]
  },
  {
   "cell_type": "code",
   "execution_count": 91,
   "id": "baf2b542",
   "metadata": {
    "vscode": {
     "languageId": "ruby"
    }
   },
   "outputs": [],
   "source": [
    "correlation = df_joined.filter(v_num).corr()"
   ]
  },
  {
   "cell_type": "code",
   "execution_count": 92,
   "id": "b06998f3",
   "metadata": {
    "vscode": {
     "languageId": "ruby"
    }
   },
   "outputs": [
    {
     "data": {
      "image/png": "[encoded data removed]",
      "text/plain": [
       "<Figure size 800x800 with 2 Axes>"
      ]
     },
     "metadata": {},
     "output_type": "display_data"
    }
   ],
   "source": [
    "# Heatmap de correlación de las variables numéricas\n",
    "plt.figure(figsize=(8,8)) #Defino el tamaño del grafico\n",
    "\n",
    "#Genero el mapa de calor\n",
    "sns.heatmap(correlation, \n",
    "            cbar = True, \n",
    "            square = True, \n",
    "            annot=True,\n",
    "            fmt= '.2f',\n",
    "            annot_kws={'size': 8},\n",
    "            cmap= 'coolwarm') \n",
    "\n",
    "#Roto los ejes para que queden inclinados\n",
    "plt.xticks(rotation = 45)\n",
    "plt.yticks(rotation = 45)\n",
    "plt.show()"
   ]
  },
  {
   "cell_type": "markdown",
   "id": "92eab49f",
   "metadata": {},
   "source": [
    "## Preguntas\n",
    "\n",
    "> Podemos preguntarnos para empezar:\n",
    "> 1. ¿Cuál es la proporción de transacciones fraudulentas frente a las transacciones no fraudulentas en el conjunto de datos?\n",
    "> 2. ¿Existen variables que sean significativamente diferentes entre las transacciones fraudulentas y no fraudulentas?\n",
    "> 3. ¿Cómo se distribuyen las transacciones fraudulentas a lo largo del tiempo? ¿Hay algún patrón temporal?\n",
    "> 4. ¿Cuál es la cantidad de dinero promedio involucrada en una transacción fraudulenta en comparación con una transacción no fraudulenta?\n",
    "> 5. ¿Existen correlaciones entre las variables del conjunto de datos que podrían ser útiles para la detección de fraudes?"
   ]
  },
  {
   "cell_type": "markdown",
   "id": "bb9718bc",
   "metadata": {},
   "source": [
    "### 1. ¿Cuál es la proporción de transacciones fraudulentas frente a las transacciones no fraudulentas en el conjunto de datos?\n"
   ]
  },
  {
   "cell_type": "code",
   "execution_count": 28,
   "id": "46d95c7f",
   "metadata": {},
   "outputs": [
    {
     "data": {
      "text/plain": [
       "fraud_indicator\n",
       "0    95.5\n",
       "1     4.5\n",
       "Name: proportion, dtype: float64"
      ]
     },
     "execution_count": 28,
     "metadata": {},
     "output_type": "execute_result"
    }
   ],
   "source": [
    "fraud_proportion = df_joined['fraud_indicator'].value_counts(normalize=True) * 100\n",
    "fraud_proportion"
   ]
  },
  {
   "cell_type": "markdown",
   "id": "19eb49d8",
   "metadata": {},
   "source": [
    "### 2. ¿Existen variables que sean significativamente diferentes entre las transacciones fraudulentas y no fraudulentas?"
   ]
  },
  {
   "cell_type": "code",
   "execution_count": 38,
   "id": "b3f987f2",
   "metadata": {
    "vscode": {
     "languageId": "ruby"
    }
   },
   "outputs": [
    {
     "data": {
      "text/html": [
       "<div>\n",
       "<style scoped>\n",
       "    .dataframe tbody tr th:only-of-type {\n",
       "        vertical-align: middle;\n",
       "    }\n",
       "\n",
       "    .dataframe tbody tr th {\n",
       "        vertical-align: top;\n",
       "    }\n",
       "\n",
       "    .dataframe thead th {\n",
       "        text-align: right;\n",
       "    }\n",
       "</style>\n",
       "<table border=\"1\" class=\"dataframe\">\n",
       "  <thead>\n",
       "    <tr style=\"text-align: right;\">\n",
       "      <th></th>\n",
       "      <th>trx_id</th>\n",
       "      <th>trx_timestamp</th>\n",
       "      <th>merchant_id</th>\n",
       "      <th>trx_amount</th>\n",
       "      <th>customer_id</th>\n",
       "      <th>amount_data_amount</th>\n",
       "      <th>trx_category</th>\n",
       "      <th>merchant_name</th>\n",
       "      <th>merchant_location</th>\n",
       "      <th>customer_name</th>\n",
       "      <th>customer_age</th>\n",
       "      <th>customer_address</th>\n",
       "      <th>account_balance</th>\n",
       "      <th>account_last_login</th>\n",
       "      <th>anomaly_score</th>\n",
       "      <th>fraud_indicator</th>\n",
       "      <th>suspicious_flag</th>\n",
       "    </tr>\n",
       "  </thead>\n",
       "  <tbody>\n",
       "    <tr>\n",
       "      <th>0</th>\n",
       "      <td>1</td>\n",
       "      <td>2022-01-01 00:00:00</td>\n",
       "      <td>2701</td>\n",
       "      <td>55.530334</td>\n",
       "      <td>1952</td>\n",
       "      <td>79.413607</td>\n",
       "      <td>Other</td>\n",
       "      <td>Merchant 2701</td>\n",
       "      <td>Location 2701</td>\n",
       "      <td>Customer 1952</td>\n",
       "      <td>50</td>\n",
       "      <td>Address 1952</td>\n",
       "      <td>2869.689912</td>\n",
       "      <td>2024-08-09</td>\n",
       "      <td>0.686699</td>\n",
       "      <td>0</td>\n",
       "      <td>0</td>\n",
       "    </tr>\n",
       "    <tr>\n",
       "      <th>1</th>\n",
       "      <td>2</td>\n",
       "      <td>2022-01-01 01:00:00</td>\n",
       "      <td>2070</td>\n",
       "      <td>12.881180</td>\n",
       "      <td>1027</td>\n",
       "      <td>12.053087</td>\n",
       "      <td>Online</td>\n",
       "      <td>Merchant 2070</td>\n",
       "      <td>Location 2070</td>\n",
       "      <td>Customer 1027</td>\n",
       "      <td>46</td>\n",
       "      <td>Address 1027</td>\n",
       "      <td>9527.947107</td>\n",
       "      <td>2022-01-27</td>\n",
       "      <td>0.081749</td>\n",
       "      <td>0</td>\n",
       "      <td>0</td>\n",
       "    </tr>\n",
       "    <tr>\n",
       "      <th>2</th>\n",
       "      <td>3</td>\n",
       "      <td>2022-01-01 02:00:00</td>\n",
       "      <td>2238</td>\n",
       "      <td>50.176322</td>\n",
       "      <td>1955</td>\n",
       "      <td>33.310357</td>\n",
       "      <td>Travel</td>\n",
       "      <td>Merchant 2238</td>\n",
       "      <td>Location 2238</td>\n",
       "      <td>Customer 1955</td>\n",
       "      <td>34</td>\n",
       "      <td>Address 1955</td>\n",
       "      <td>9288.355525</td>\n",
       "      <td>2024-08-12</td>\n",
       "      <td>0.023857</td>\n",
       "      <td>0</td>\n",
       "      <td>0</td>\n",
       "    </tr>\n",
       "    <tr>\n",
       "      <th>3</th>\n",
       "      <td>4</td>\n",
       "      <td>2022-01-01 03:00:00</td>\n",
       "      <td>2879</td>\n",
       "      <td>41.634001</td>\n",
       "      <td>1796</td>\n",
       "      <td>46.121117</td>\n",
       "      <td>Travel</td>\n",
       "      <td>Merchant 2879</td>\n",
       "      <td>Location 2879</td>\n",
       "      <td>Customer 1796</td>\n",
       "      <td>33</td>\n",
       "      <td>Address 1796</td>\n",
       "      <td>5588.049942</td>\n",
       "      <td>2024-03-06</td>\n",
       "      <td>0.876994</td>\n",
       "      <td>0</td>\n",
       "      <td>0</td>\n",
       "    </tr>\n",
       "    <tr>\n",
       "      <th>4</th>\n",
       "      <td>5</td>\n",
       "      <td>2022-01-01 04:00:00</td>\n",
       "      <td>2966</td>\n",
       "      <td>78.122853</td>\n",
       "      <td>1946</td>\n",
       "      <td>54.051618</td>\n",
       "      <td>Other</td>\n",
       "      <td>Merchant 2966</td>\n",
       "      <td>Location 2966</td>\n",
       "      <td>Customer 1946</td>\n",
       "      <td>18</td>\n",
       "      <td>Address 1946</td>\n",
       "      <td>7324.785332</td>\n",
       "      <td>2024-08-03</td>\n",
       "      <td>0.034059</td>\n",
       "      <td>0</td>\n",
       "      <td>0</td>\n",
       "    </tr>\n",
       "  </tbody>\n",
       "</table>\n",
       "</div>"
      ],
      "text/plain": [
       "   trx_id       trx_timestamp  merchant_id  trx_amount  customer_id  \\\n",
       "0       1 2022-01-01 00:00:00         2701   55.530334         1952   \n",
       "1       2 2022-01-01 01:00:00         2070   12.881180         1027   \n",
       "2       3 2022-01-01 02:00:00         2238   50.176322         1955   \n",
       "3       4 2022-01-01 03:00:00         2879   41.634001         1796   \n",
       "4       5 2022-01-01 04:00:00         2966   78.122853         1946   \n",
       "\n",
       "   amount_data_amount trx_category  merchant_name merchant_location  \\\n",
       "0           79.413607        Other  Merchant 2701     Location 2701   \n",
       "1           12.053087       Online  Merchant 2070     Location 2070   \n",
       "2           33.310357       Travel  Merchant 2238     Location 2238   \n",
       "3           46.121117       Travel  Merchant 2879     Location 2879   \n",
       "4           54.051618        Other  Merchant 2966     Location 2966   \n",
       "\n",
       "   customer_name  customer_age customer_address  account_balance  \\\n",
       "0  Customer 1952            50     Address 1952      2869.689912   \n",
       "1  Customer 1027            46     Address 1027      9527.947107   \n",
       "2  Customer 1955            34     Address 1955      9288.355525   \n",
       "3  Customer 1796            33     Address 1796      5588.049942   \n",
       "4  Customer 1946            18     Address 1946      7324.785332   \n",
       "\n",
       "  account_last_login  anomaly_score  fraud_indicator  suspicious_flag  \n",
       "0         2024-08-09       0.686699                0                0  \n",
       "1         2022-01-27       0.081749                0                0  \n",
       "2         2024-08-12       0.023857                0                0  \n",
       "3         2024-03-06       0.876994                0                0  \n",
       "4         2024-08-03       0.034059                0                0  "
      ]
     },
     "execution_count": 38,
     "metadata": {},
     "output_type": "execute_result"
    }
   ],
   "source": [
    "df_joined.head()"
   ]
  },
  {
   "cell_type": "code",
   "execution_count": 94,
   "id": "203e2f0f",
   "metadata": {},
   "outputs": [],
   "source": [
    "# df_joined head to csv file pandas\n",
    "df_joined.to_csv('./work/data/df_joined.csv', index=False)"
   ]
  },
  {
   "cell_type": "code",
   "execution_count": null,
   "id": "61239fb5",
   "metadata": {},
   "outputs": [],
   "source": []
  }
 ],
 "metadata": {
  "kernelspec": {
   "display_name": "Python 3 (ipykernel)",
   "language": "python",
   "name": "python3"
  },
  "language_info": {
   "codemirror_mode": {
    "name": "ipython",
    "version": 3
   },
   "file_extension": ".py",
   "mimetype": "text/x-python",
   "name": "python",
   "nbconvert_exporter": "python",
   "pygments_lexer": "ipython3",
   "version": "3.11.6"
  }
 },
 "nbformat": 4,
 "nbformat_minor": 5
}
